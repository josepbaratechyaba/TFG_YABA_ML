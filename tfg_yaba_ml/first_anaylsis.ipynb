{
 "cells": [
  {
   "cell_type": "code",
   "execution_count": 15,
   "metadata": {},
   "outputs": [],
   "source": [
    "import json\n",
    "import logging\n",
    "import os\n",
    "from typing import List\n",
    "\n",
    "import numpy as np\n",
    "import pandas as pd\n",
    "import pandas_gbq\n",
    "import plotly.graph_objects as go\n",
    "from sklearn.ensemble import HistGradientBoostingRegressor\n",
    "from sklearn.preprocessing import LabelEncoder\n",
    "\n",
    "ROOT_DIR = os.getcwd()\n",
    "ROOT_DIR = os.path.dirname(ROOT_DIR)\n",
    "#ROOT_DIR = os.path.realpath(os.path.join(os.path.dirname(__file__), \"..\"))\n",
    "#LOG_PATH = os.path.join(ROOT_DIR, \"logs/forecasting.log\")\n",
    "#logging.basicConfig(filename=LOG_PATH, encoding=\"utf-8\", level=logging.DEBUG)\n",
    "\n",
    "\n",
    "def _get_query_string(query_name: str):\n",
    "    \"\"\"\n",
    "    Get a query from the queries folder, as a string\n",
    "    :param query_name: The name of the query to use, without the .sql extension\n",
    "    :return: The query as a string\n",
    "    \"\"\"\n",
    "    with open(os.path.join(ROOT_DIR, f\"queries/{query_name}.sql\"), \"r\") as f:\n",
    "        return f.read()\n",
    "\n",
    "\n",
    "def _substitute_asin(query: str, asins: List[str] = None):\n",
    "    \"\"\"\n",
    "    Create a where in clause from a list of ASINs\n",
    "    :param query: The query to use as a string\n",
    "    :param asins: The brands to filter by, as a list of strings\n",
    "    :return: The query string with the where in clause\n",
    "    \"\"\"\n",
    "    where = f\" and asin in unnest({asins})\" if asins else \"\"\n",
    "    return query.replace(\"ASIN_SELECTION\", where)\n",
    "\n",
    "\n",
    "def get_calendar():\n",
    "    calendar = _get_query_string(\"calendar\")\n",
    "    calendar_df, _ = _get_data_from_bq(calendar)\n",
    "    return calendar_df\n",
    "\n",
    "\n",
    "def _get_data_from_bq(query: str,):\n",
    "    \"\"\"\n",
    "    Get data from BigQuery, using a query string\n",
    "    :param query: The query to use\n",
    "    :return: A pandas DataFrame\n",
    "    \"\"\"\n",
    "    return pandas_gbq.read_gbq(query, project_id=\"yaba-data\"), query"
   ]
  },
  {
   "cell_type": "code",
   "execution_count": 17,
   "metadata": {},
   "outputs": [
    {
     "name": "stderr",
     "output_type": "stream",
     "text": [
      "/usr/local/lib/python3.11/site-packages/google/cloud/bigquery/table.py:2230: UserWarning: A progress bar was requested, but there was an error loading the tqdm library. Please install tqdm to use the progress bar functionality.\n",
      "  record_batch = self.to_arrow(\n"
     ]
    },
    {
     "name": "stdout",
     "output_type": "stream",
     "text": [
      "(     seller_region country_code             brand        asin reporting_date  \\\n",
      "0               eu           uk  incite-nutrition  B00RXIIW7K     2023-09-12   \n",
      "1               eu           uk  incite-nutrition  B00RXIIW7K     2023-06-29   \n",
      "2               eu           uk  incite-nutrition  B00RXIIW7K     2023-10-15   \n",
      "3               eu           uk  incite-nutrition  B00RXIIW7K     2023-09-20   \n",
      "4               eu           uk  incite-nutrition  B00RXIIW7K     2023-11-10   \n",
      "...            ...          ...               ...         ...            ...   \n",
      "1831            eu           uk  incite-nutrition  B09Q68LBQN     2023-10-08   \n",
      "1832            eu           uk  incite-nutrition  B09Q68LBQN     2023-11-03   \n",
      "1833            eu           uk  incite-nutrition  B09Q68LBQN     2023-12-12   \n",
      "1834            eu           uk  incite-nutrition  B09Q68LBQN     2023-11-06   \n",
      "1835            eu           uk  incite-nutrition  B09Q68LBQN     2023-11-25   \n",
      "\n",
      "      top_bsr_position  bot_bsr_position           sales  perdormance  units  \\\n",
      "0                  3.0              12.0  3347.450000000  1.197405910    451   \n",
      "1                  2.0              14.0  2577.310000000  0.669985095    349   \n",
      "2                  4.0              29.0  3260.240000000  0.856848823    376   \n",
      "3                  4.0              18.0  2783.430000000  0.744866088    322   \n",
      "4                  3.0              23.0  3493.980000000  0.938827571    405   \n",
      "...                ...               ...             ...          ...    ...   \n",
      "1831               2.0             359.0  2102.260000000  1.108029032    145   \n",
      "1832               2.0             553.0  1499.450000000  0.794938917    104   \n",
      "1833               2.0             288.0  2268.030000000  1.195862589    174   \n",
      "1834               2.0             551.0  2066.900000000  1.088722928    143   \n",
      "1835               2.0             453.0  2477.880000000  1.388641420    198   \n",
      "\n",
      "      ... units_sde1 refunds_sde1 sessionsmobile_sde1  pageviews_sde1  \\\n",
      "0     ...   0.656793    -0.039932            0.752909        1.872806   \n",
      "1     ...   0.535071          NaN            0.584132        1.500958   \n",
      "2     ...   0.392599    -0.022439            0.434365        1.063985   \n",
      "3     ...   0.321669    -0.014755            0.305685        0.806170   \n",
      "4     ...   0.360966    -0.017193            0.413551        1.013378   \n",
      "...   ...        ...          ...                 ...             ...   \n",
      "1831  ...   0.251977    -0.036754            0.408376        0.962725   \n",
      "1832  ...   0.283618    -0.167308            0.359977        0.962666   \n",
      "1833  ...   0.327517    -0.061381            0.295518        0.792441   \n",
      "1834  ...   0.247864    -0.063907            0.247864        0.682925   \n",
      "1835  ...   0.397479    -0.064299            0.325210        0.823062   \n",
      "\n",
      "     topbsr_units botbsr_units units_units refunds_units sessionsmobile_units  \\\n",
      "0        0.006652     0.026608         1.0  -0.060798226          1.146341463   \n",
      "1        0.005731     0.040115         1.0          None          1.091690544   \n",
      "2        0.010638     0.077128         1.0  -0.057154255          1.106382979   \n",
      "3        0.012422     0.055901         1.0  -0.045869565          0.950310559   \n",
      "4        0.007407     0.056790         1.0  -0.047629630          1.145679012   \n",
      "...           ...          ...         ...           ...                  ...   \n",
      "1831     0.013793     2.475862         1.0  -0.145862069          1.620689655   \n",
      "1832     0.019231     5.317308         1.0  -0.589903846          1.269230769   \n",
      "1833     0.011494     1.655172         1.0  -0.187413793          0.902298851   \n",
      "1834     0.013986     3.853147         1.0  -0.257832168          1.000000000   \n",
      "1835     0.010101     2.287879         1.0  -0.161767677          0.818181818   \n",
      "\n",
      "     pageviews_units  \n",
      "0        2.851441242  \n",
      "1        2.805157593  \n",
      "2        2.710106383  \n",
      "3        2.506211180  \n",
      "4        2.807407407  \n",
      "...              ...  \n",
      "1831     3.820689655  \n",
      "1832     3.394230769  \n",
      "1833     2.419540230  \n",
      "1834     2.755244755  \n",
      "1835     2.070707071  \n",
      "\n",
      "[1836 rows x 38 columns], \"with data as (\\n  select\\n    seller_region,\\n    country_code,\\n    brand,\\n    asin,\\n    reporting_date,\\n    brand_aggregation,\\n    sum(daily_sales_asin_euro) as sales,\\n    sum(daily_qty_asin) as units,\\n    sum(daily_discounts_asin_euro) as discounts,\\n    sum(daily_cogs_asin_euro) as cogs,\\n    sum(daily_refunds_asin_euro) as refunds,\\n    sum(daily_sde1_asin_euro) as sde1,\\n    avg(top_bsr_position) as top_bsr_position,\\n    avg(bot_bsr_position) as bot_bsr_position,\\n    sum(daily_sessions_mobile_asin) as sessions_mobile,\\n    sum(daily_sessions_browser_asin) as sessions_browser,\\n    sum(daily_sessions_asin) as sessions,\\n    sum(daily_page_views_mobile_asin) as pageviews_mobile,\\n    sum(daily_page_views_browser_asin) as pageviews_browser,\\n    sum(daily_page_views_asin) as pageviews,\\n  from `yaba-data.base.fct_fe_final_report_everything_asin`\\n  group by 1, 2, 3, 4, 5, 6\\n),\\n\\ntop_asins as (\\n    select\\n        reporting_date,\\n        asin,\\n        country_code,\\n        round(sum(sde1), 2) as sde1,\\n    from data\\n    where\\n        brand_aggregation is not null\\n        and asin is not null\\n        and reporting_date between date_sub(current_date(), interval 6 month) and date_sub(current_date(), interval 2 day)\\n    group by 1, 2, 3\\n\\n),\\n\\nranked as (\\n    select\\n        asin,\\n        country_code,\\n        rank() over (order by sum(sde1) desc) as rank,\\n    from top_asins\\n    group by 1, 2\\n),\\n\\ndata_selector as (\\n    select\\n        seller_region,\\n        country_code,\\n        brand,\\n        asin,\\n        reporting_date,\\n        top_bsr_position,\\n        bot_bsr_position,\\n        sales,\\n        units,\\n        discounts,\\n        cogs,\\n        refunds,\\n        sde1,\\n        sessions_mobile,\\n        sessions_browser,\\n        sessions,\\n        pageviews_mobile,\\n        pageviews_browser,\\n        pageviews,\\n        r.rank,\\n    from data as d\\n    left join ranked as r\\n        using (asin, country_code)\\n),\\n\\nnew_features as (\\n    select\\n        seller_region,\\n        country_code,\\n        brand,\\n        asin,\\n        reporting_date,\\n        top_bsr_position,\\n        bot_bsr_position,\\n        sales,\\n        safe_divide(sales,avg(sales) over (partition by country_code, asin rows between 90 preceding and current row)) as perdormance,\\n        units,\\n        discounts,\\n        cogs,\\n        refunds,\\n        sde1,\\n        sessions_mobile,\\n        sessions_browser,\\n        sessions,\\n        pageviews_mobile,\\n        pageviews_browser,\\n        pageviews,\\n        safe_divide(top_bsr_position,sales) as topbsr_sales,\\n        safe_divide(bot_bsr_position,sales) as botbsr_sales,\\n        safe_divide(units,sales) as units_sales,\\n        safe_divide(refunds,sales) as refunds_sales,\\n        safe_divide(sessions_mobile,sales) as sessionsmobile_sales,\\n        safe_divide(pageviews,sales) as pageviews_sales,\\n        safe_divide(top_bsr_position,sde1) as topbsr_sde1,\\n        safe_divide(bot_bsr_position,sde1) as botbsr_sde1,\\n        safe_divide(units,sde1) as units_sde1,\\n        safe_divide(refunds,sde1) as refunds_sde1,\\n        safe_divide(sessions_mobile,sde1) as sessionsmobile_sde1,\\n        safe_divide(pageviews,sde1) as pageviews_sde1,\\n        safe_divide(top_bsr_position,units) as topbsr_units,\\n        safe_divide(bot_bsr_position,units) as botbsr_units,\\n        safe_divide(units,units) as units_units,\\n        safe_divide(refunds,units) as refunds_units,\\n        safe_divide(sessions_mobile,units) as sessionsmobile_units,\\n        safe_divide(pageviews,units) as pageviews_units,\\n        rank,\\n    from data_selector\\n)\\n\\nselect * except(rank)\\nfrom new_features\\nwhere rank < 10 and reporting_date > '2023-06-01'\")\n"
     ]
    }
   ],
   "source": [
    "dataset = _get_data_from_bq(_get_query_string(\"everything_asin\"))\n",
    "print(dataset)"
   ]
  },
  {
   "cell_type": "code",
   "execution_count": 16,
   "metadata": {},
   "outputs": [
    {
     "name": "stdout",
     "output_type": "stream",
     "text": [
      "/workspaces/TFG_YABA_ML\n"
     ]
    }
   ],
   "source": [
    "print(ROOT_DIR)"
   ]
  }
 ],
 "metadata": {
  "kernelspec": {
   "display_name": "ml_kernel",
   "language": "python",
   "name": "ml_kernel"
  },
  "language_info": {
   "codemirror_mode": {
    "name": "ipython",
    "version": 3
   },
   "file_extension": ".py",
   "mimetype": "text/x-python",
   "name": "python",
   "nbconvert_exporter": "python",
   "pygments_lexer": "ipython3",
   "version": "3.11.7"
  }
 },
 "nbformat": 4,
 "nbformat_minor": 2
}
